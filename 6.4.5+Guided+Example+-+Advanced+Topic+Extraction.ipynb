{
 "cells": [
  {
   "cell_type": "code",
   "execution_count": 1,
   "metadata": {},
   "outputs": [],
   "source": [
    "import numpy as np\n",
    "import pandas as pd\n",
    "import scipy\n",
    "import matplotlib.pyplot as plt\n",
    "import seaborn as sns\n",
    "%matplotlib inline"
   ]
  },
  {
   "cell_type": "markdown",
   "metadata": {},
   "source": [
    "# Comparing LSA, LDA, and NNMF\n",
    "\n",
    "Now that you've been introduced to the logic behind these three topic extraction methods, we're going to try them out on the *Emma* corpus.  We'll be looking at interpretability, speed, and consistency across methods.  The goal is to identify common themes in *Emma* on a per-paragraph basis.  We won't be using pLSA as sklearn does not support it.\n",
    "\n",
    "To do this, we will:\n",
    "\n",
    "1. Parse and process the data into a tf-idf matrix.\n",
    "2. Fit LSA, LDA, and NNMF models with 5 topics each.\n",
    "4. Extract the words that best describe each topic.\n",
    "5. Examine the topic relationships for the words 'marriage', 'love', and 'Emma.'\n",
    "\n",
    "## Generating the tfidf matrix"
   ]
  },
  {
   "cell_type": "code",
   "execution_count": 2,
   "metadata": {},
   "outputs": [],
   "source": [
    "# Processing the data.\n",
    "\n",
    "from nltk.corpus import gutenberg\n",
    "import re\n",
    "from sklearn.feature_extraction.text import TfidfVectorizer\n",
    "\n",
    "\n",
    "#reading in the data, this time in the form of paragraphs\n",
    "emma=gutenberg.paras('austen-emma.txt')\n",
    "#processing\n",
    "emma_paras=[]\n",
    "for paragraph in emma:\n",
    "    para=paragraph[0]\n",
    "    #removing the double-dash from all words\n",
    "    para=[re.sub(r'--','',word) for word in para]\n",
    "    #Forming each paragraph into a string and adding it to the list of strings.\n",
    "    emma_paras.append(' '.join(para))\n",
    "\n",
    "# Creating the tf-idf matrix.\n",
    "vectorizer = TfidfVectorizer(stop_words='english')\n",
    "emma_paras_tfidf=vectorizer.fit_transform(emma_paras)\n",
    "\n",
    "# Getting the word list.\n",
    "terms = vectorizer.get_feature_names()\n",
    "\n",
    "# Number of topics.\n",
    "ntopics=5\n",
    "\n",
    "# Linking words to topics\n",
    "def word_topic(tfidf,solution, wordlist):\n",
    "    \n",
    "    # Loading scores for each word on each topic/component.\n",
    "    words_by_topic=tfidf.T * solution\n",
    "\n",
    "    # Linking the loadings to the words in an easy-to-read way.\n",
    "    components=pd.DataFrame(words_by_topic,index=wordlist)\n",
    "    \n",
    "    return components\n",
    "\n",
    "# Extracts the top N words and their loadings for each topic.\n",
    "def top_words(components, n_top_words):\n",
    "    n_topics = range(components.shape[1])\n",
    "    index= np.repeat(n_topics, n_top_words, axis=0)\n",
    "    topwords=pd.Series(index=index)\n",
    "    for column in range(components.shape[1]):\n",
    "        # Sort the column so that highest loadings are at the top.\n",
    "        sortedwords=components.iloc[:,column].sort_values(ascending=False)\n",
    "        # Choose the N highest loadings.\n",
    "        chosen=sortedwords[:n_top_words]\n",
    "        # Combine loading and index into a string.\n",
    "        chosenlist=chosen.index +\" \"+round(chosen,2).map(str) \n",
    "        topwords.loc[column]=chosenlist\n",
    "    return(topwords)\n",
    "\n",
    "# Number of words to look at for each topic.\n",
    "n_top_words = 10\n"
   ]
  },
  {
   "cell_type": "markdown",
   "metadata": {},
   "source": [
    "In addition to creating the tfidf matrix, there are two convenience functions that will help keep the code tidy when comparing models.  The first provides a list of the words that are paired with each topic.  The second gives us the best words for each topic so we can compare across methods.\n",
    "\n",
    "## Fitting the three topic extraction models"
   ]
  },
  {
   "cell_type": "code",
   "execution_count": 3,
   "metadata": {},
   "outputs": [],
   "source": [
    "# LSA\n",
    "\n",
    "from sklearn.decomposition import TruncatedSVD\n",
    "from sklearn.pipeline import make_pipeline\n",
    "from sklearn.preprocessing import Normalizer\n",
    "\n",
    "svd= TruncatedSVD(ntopics)\n",
    "lsa = make_pipeline(svd, Normalizer(copy=False))\n",
    "emma_paras_lsa = lsa.fit_transform(emma_paras_tfidf)\n",
    "\n",
    "components_lsa = word_topic(emma_paras_tfidf, emma_paras_lsa, terms)\n",
    "\n",
    "topwords=pd.DataFrame()\n",
    "topwords['LSA']=top_words(components_lsa, n_top_words)                \n"
   ]
  },
  {
   "cell_type": "code",
   "execution_count": 4,
   "metadata": {},
   "outputs": [
    {
     "name": "stderr",
     "output_type": "stream",
     "text": [
      "/home/ljagged/miniconda3/envs/thinkful/lib/python3.6/site-packages/sklearn/decomposition/online_lda.py:294: DeprecationWarning: n_topics has been renamed to n_components in version 0.19 and will be removed in 0.21\n",
      "  DeprecationWarning)\n",
      "/home/ljagged/miniconda3/envs/thinkful/lib/python3.6/site-packages/sklearn/decomposition/online_lda.py:536: DeprecationWarning: The default value for 'learning_method' will be changed from 'online' to 'batch' in the release 0.20. This warning was introduced in 0.18.\n",
      "  DeprecationWarning)\n"
     ]
    }
   ],
   "source": [
    "# LDA\n",
    "from sklearn.decomposition import LatentDirichletAllocation as LDA\n",
    "\n",
    "lda = LDA(n_topics=ntopics, \n",
    "          doc_topic_prior=None, # Prior = 1/n_documents\n",
    "          topic_word_prior=1/ntopics,\n",
    "          learning_decay=0.7, # Convergence rate.\n",
    "          learning_offset=10.0, # Causes earlier iterations to have less influence on the learning\n",
    "          max_iter=10, # when to stop even if the model is not converging (to prevent running forever)\n",
    "          evaluate_every=-1, # Do not evaluate perplexity, as it slows training time.\n",
    "          mean_change_tol=0.001, # Stop updating the document topic distribution in the E-step when mean change is < tol\n",
    "          max_doc_update_iter=100, # When to stop updating the document topic distribution in the E-step even if tol is not reached\n",
    "          n_jobs=-1, # Use all available CPUs to speed up processing time.\n",
    "          verbose=0, # amount of output to give while iterating\n",
    "          random_state=0\n",
    "         )\n",
    "\n",
    "emma_paras_lda = lda.fit_transform(emma_paras_tfidf) \n",
    "\n",
    "components_lda = word_topic(emma_paras_tfidf, emma_paras_lda, terms)\n",
    "\n",
    "topwords['LDA']=top_words(components_lda, n_top_words)\n"
   ]
  },
  {
   "cell_type": "code",
   "execution_count": 5,
   "metadata": {},
   "outputs": [],
   "source": [
    "# NNMF\n",
    "\n",
    "from sklearn.decomposition import NMF\n",
    "\n",
    "nmf = NMF(alpha=0.0, \n",
    "          init='nndsvdar', # how starting value are calculated\n",
    "          l1_ratio=0.0, # Sets whether regularization is L2 (0), L1 (1), or a combination (values between 0 and 1)\n",
    "          max_iter=200, # when to stop even if the model is not converging (to prevent running forever)\n",
    "          n_components=ntopics, \n",
    "          random_state=0, \n",
    "          solver='cd', # Use Coordinate Descent to solve\n",
    "          tol=0.0001, # model will stop if tfidf-WH <= tol\n",
    "          verbose=0 # amount of output to give while iterating\n",
    "         )\n",
    "emma_paras_nmf = nmf.fit_transform(emma_paras_tfidf) \n",
    "\n",
    "components_nmf = word_topic(emma_paras_tfidf, emma_paras_nmf, terms)\n",
    "\n",
    "topwords['NNMF']=top_words(components_nmf, n_top_words)"
   ]
  },
  {
   "cell_type": "markdown",
   "metadata": {},
   "source": [
    "We are mostly using the default settings for each method, but explicitly printing them so it is clear what is going on and how each model can be modified.  sklearn has such nice parallel structure for its various topic extraction methods that we could probably have abstracted the code even further."
   ]
  },
  {
   "cell_type": "markdown",
   "metadata": {},
   "source": [
    "# Inspecting the topics\n",
    "\n",
    "For each topic, we list the ten most-relevant words according to each method:"
   ]
  },
  {
   "cell_type": "code",
   "execution_count": 6,
   "metadata": {},
   "outputs": [
    {
     "name": "stdout",
     "output_type": "stream",
     "text": [
      "Topic 0:\n",
      "               LSA              LDA             NNMF\n",
      "0         oh 97.61         mr 51.99         oh 30.12\n",
      "0         yes 4.82       emma 49.89         yes 0.52\n",
      "0       thank 1.58       said 39.52       sorry 0.16\n",
      "0  difference 1.56        mrs 35.23  difference 0.15\n",
      "0        just 1.44       miss 29.94        just 0.12\n",
      "0     harriet 1.32    harriet 26.28        papa 0.12\n",
      "0       sorry 1.28     weston 25.61        week 0.11\n",
      "0       short 1.17  knightley 24.56       short 0.11\n",
      "0        papa 1.15      elton 23.59    recollect 0.1\n",
      "0   recollect 1.02        did 20.92      letter 0.09\n",
      "Topic 1:\n",
      "             LSA           LDA            NNMF\n",
      "1     emma 58.27      oh 56.84         mr 7.29\n",
      "1       mr 58.08      ah 18.12        mrs 4.26\n",
      "1     said 50.66     emma 6.46      elton 3.41\n",
      "1      mrs 47.07     said 4.87  knightley 3.24\n",
      "1     miss 37.33   harriet 4.7     weston 3.15\n",
      "1  harriet 34.77       mr 4.68       miss 2.99\n",
      "1   weston 32.23  chapter 4.14  woodhouse 2.09\n",
      "1    elton 27.76      mrs 3.17       said 1.88\n",
      "1      did 27.59     miss 3.14    fairfax 1.84\n",
      "1    think 26.81    think 3.03       emma 1.47\n",
      "Topic 2:\n",
      "             LSA            LDA           NNMF\n",
      "2       ah 31.15  chapter 20.22       ah 12.89\n",
      "2      sure 3.76       oh 10.15      sure 0.35\n",
      "2       say 1.38        yes 8.9   believe 0.18\n",
      "2     thank 1.25      sure 6.93       say 0.18\n",
      "2   believe 0.84      emma 6.87     shake 0.09\n",
      "2      sorry 0.8      dear 6.25     hands 0.09\n",
      "2     finis 0.69        mr 6.07     sorry 0.09\n",
      "2     shake 0.49      true 5.51  grievous 0.08\n",
      "2     hands 0.49     thank 5.47      come 0.07\n",
      "2  grievous 0.44      said 5.19    taylor 0.07\n",
      "Topic 3:\n",
      "             LSA           LDA           NNMF\n",
      "3  chapter 33.91       oh 9.59  chapter 10.46\n",
      "3         ii 3.2     emma 5.75       iii 0.68\n",
      "3        iii 3.2     good 4.13        ii 0.68\n",
      "3        xv 2.52       mr 4.12       vii 0.66\n",
      "3        vi 2.52     said 3.91        xv 0.66\n",
      "3        iv 2.52     read 3.34       xvi 0.66\n",
      "3      xvii 2.52      mrs 3.19      xvii 0.66\n",
      "3       xiv 2.52    think 3.15     xviii 0.66\n",
      "3      viii 2.52       ah 3.06       xii 0.66\n",
      "3       xii 2.52  chapter 2.99        xi 0.66\n",
      "Topic 4:\n",
      "               LSA           LDA          NNMF\n",
      "4         mr 38.17       oh 9.68     emma 9.27\n",
      "4  knightley 18.88     emma 8.16     said 5.84\n",
      "4      elton 15.25     said 5.82     dear 3.52\n",
      "4      weston 9.48       mr 5.61  harriet 2.89\n",
      "4         mrs 6.65    shall 4.82      yes 2.29\n",
      "4        john 4.49  harriet 4.52    think 1.74\n",
      "4      martin 3.18      mrs 4.32       mr 1.69\n",
      "4    woodhouse 2.6     dear 4.28      say 1.52\n",
      "4        idea 1.88     papa 3.53    thing 1.32\n",
      "4        plan 1.65       ah 3.05     sure 1.27\n"
     ]
    }
   ],
   "source": [
    "for topic in range(ntopics):\n",
    "    print('Topic {}:'.format(topic))\n",
    "    print(topwords.loc[topic])\n",
    "    "
   ]
  },
  {
   "cell_type": "markdown",
   "metadata": {},
   "source": [
    "A number of things are clear.  First, some topics are shared, though the order of topics varies- the 'oh' topic is first for LSA and NNMF, but second for LDA.  And second, the content of some of the topics varies considerably across methods.  This is a clear argument for using multiple methods when exploring topics.\n",
    "\n",
    "# Sparsity\n",
    "\n",
    "Now let's examine sparsity by looking at the distributions of loadings for the words 'marriage', 'love', 'emma', and 'oh' across the methods:"
   ]
  },
  {
   "cell_type": "code",
   "execution_count": 7,
   "metadata": {
    "code_folding": [
     3
    ]
   },
   "outputs": [
    {
     "data": {
      "image/png": "[encoded data removed]",
      "text/plain": [
       "<Figure size 432x288 with 1 Axes>"
      ]
     },
     "metadata": {},
     "output_type": "display_data"
    },
    {
     "data": {
      "image/png": "[encoded data removed]",
      "text/plain": [
       "<Figure size 432x288 with 1 Axes>"
      ]
     },
     "metadata": {},
     "output_type": "display_data"
    },
    {
     "data": {
      "image/png": "[encoded data removed]",
      "text/plain": [
       "<Figure size 432x288 with 1 Axes>"
      ]
     },
     "metadata": {},
     "output_type": "display_data"
    },
    {
     "data": {
      "image/png": "[encoded data removed]",
      "text/plain": [
       "<Figure size 432x288 with 1 Axes>"
      ]
     },
     "metadata": {},
     "output_type": "display_data"
    }
   ],
   "source": [
    "# The words to look at.\n",
    "targetwords=['marriage','love','emma','oh']\n",
    "\n",
    "# Storing the loadings.\n",
    "wordloadings=pd.DataFrame(columns=targetwords)\n",
    "\n",
    "# For each word, extracting and string the loadings for each method.\n",
    "for word in targetwords:\n",
    "    loadings=components_lsa.loc[word].append(\n",
    "        components_lda.loc[word]).append(\n",
    "            components_nmf.loc[word])\n",
    "    wordloadings[word]=loadings\n",
    "\n",
    "# Labeling the data by method and providing an ordering variable for graphing purposes. \n",
    "wordloadings['method']=np.repeat(['LSA','LDA','NNMF'], 5, axis=0)\n",
    "wordloadings['loading']=[0,1,2,3,4]*3\n",
    "\n",
    "sns.set(style=\"darkgrid\")\n",
    "\n",
    "for word in targetwords:\n",
    "    sns.barplot(x=\"method\", y=word, hue=\"loading\", data=wordloadings)\n",
    "    plt.title(word)\n",
    "    plt.ylabel(\"\")\n",
    "    plt.show()\n"
   ]
  },
  {
   "cell_type": "markdown",
   "metadata": {},
   "source": [
    "LSA is the method most likely to have high loadings on more than one topic for the same word.  LDA tends to have one high loading and some lower loadings.  Loadings for NNMF are lower all around, and the most sparse, with some of the topics having loadings of zero on each word.\n",
    "\n",
    "# Challenge: Topic extraction on new data\n",
    "\n",
    "Take the well-known [20 newsgroups](http://qwone.com/~jason/20Newsgroups/) dataset and use each of the methods on it.  Your goal is to determine which method, if any, best reproduces the topics represented by the newsgroups.  Write up a report where you evaluate each method in light of the 'ground truth'- the known source of each newsgroup post.  Which works best, and why do you think this is the case?\n",
    "\n"
   ]
  },
  {
   "cell_type": "code",
   "execution_count": 10,
   "metadata": {},
   "outputs": [],
   "source": [
    "from sklearn.datasets import fetch_20newsgroups\n",
    "\n"
   ]
  },
  {
   "cell_type": "code",
   "execution_count": 11,
   "metadata": {},
   "outputs": [
    {
     "name": "stdout",
     "output_type": "stream",
     "text": [
      "['alt.atheism',\n",
      " 'comp.graphics',\n",
      " 'comp.os.ms-windows.misc',\n",
      " 'comp.sys.ibm.pc.hardware',\n",
      " 'comp.sys.mac.hardware',\n",
      " 'comp.windows.x',\n",
      " 'misc.forsale',\n",
      " 'rec.autos',\n",
      " 'rec.motorcycles',\n",
      " 'rec.sport.baseball',\n",
      " 'rec.sport.hockey',\n",
      " 'sci.crypt',\n",
      " 'sci.electronics',\n",
      " 'sci.med',\n",
      " 'sci.space',\n",
      " 'soc.religion.christian',\n",
      " 'talk.politics.guns',\n",
      " 'talk.politics.mideast',\n",
      " 'talk.politics.misc',\n",
      " 'talk.religion.misc']\n"
     ]
    }
   ],
   "source": [
    "from pprint import pprint\n",
    "pprint(list(newsgroups_train.target_names))"
   ]
  },
  {
   "cell_type": "code",
   "execution_count": 14,
   "metadata": {},
   "outputs": [],
   "source": [
    "def show_top10(classifier, vectorizer, categories):\n",
    "    feature_names = np.asarray(vectorizer.get_feature_names())\n",
    "    for i, category in enumerate(categories):\n",
    "        top10 = np.argsort(classifier.coef_[i])[-10:]\n",
    "    print(\"%s: %s\" % (category, \" \".join(feature_names[top10])))"
   ]
  },
  {
   "cell_type": "code",
   "execution_count": 16,
   "metadata": {},
   "outputs": [],
   "source": [
    "groups = ['rec.autos','rec.sport.hockey','sci.med','talk.politics.mideast']"
   ]
  },
  {
   "cell_type": "markdown",
   "metadata": {},
   "source": [
    "### Newsgroups Used ###\n",
    "\n",
    "* Let's concentrate on four newsgroups\n",
    "    * Rec.Autos\n",
    "    * Rec.sport.hockey\n",
    "    * Sci.med\n",
    "    * Talk.politics.mideast"
   ]
  },
  {
   "cell_type": "code",
   "execution_count": 17,
   "metadata": {},
   "outputs": [],
   "source": [
    "ng_auto = fetch_20newsgroups(subset='train',\n",
    "                             remove=('headers', 'footers', 'quotes'),\n",
    "                             categories=['rec.autos'] )\n"
   ]
  },
  {
   "cell_type": "code",
   "execution_count": 48,
   "metadata": {},
   "outputs": [],
   "source": [
    "ng_hockey = fetch_20newsgroups(subset='train',\n",
    "                               remove=('headers', 'footers', 'quotes'),\n",
    "                               categories=['rec.sport.hockey'] )"
   ]
  },
  {
   "cell_type": "code",
   "execution_count": 21,
   "metadata": {},
   "outputs": [],
   "source": [
    "ng_med =    fetch_20newsgroups(subset='train',\n",
    "                               remove=('headers', 'footers', 'quotes'),\n",
    "                               categories=[groups[2]] )"
   ]
  },
  {
   "cell_type": "code",
   "execution_count": 22,
   "metadata": {},
   "outputs": [],
   "source": [
    "ng_mideast = fetch_20newsgroups(subset='train',\n",
    "                                remove=('headers', 'footers', 'quotes'),\n",
    "                                categories=[groups[3]] )"
   ]
  },
  {
   "cell_type": "code",
   "execution_count": 39,
   "metadata": {},
   "outputs": [],
   "source": [
    "vectorizer1 = TfidfVectorizer(stop_words='english')\n",
    "vector_auto = vectorizer1.fit_transform(ng_auto.data)\n",
    "\n",
    "vectorizer2 = TfidfVectorizer(stop_words='english')\n",
    "vector_hockey = vectorizer2.fit_transform(ng_hockey.data)\n",
    "\n",
    "vectorizer3 = TfidfVectorizer(stop_words='english')\n",
    "vector_med = vectorizer3.fit_transform(ng_med.data)\n",
    "\n",
    "vectorizer4 = TfidfVectorizer(stop_words='english')\n",
    "vector_mideast = vectorizer4.fit_transform(ng_mideast.data)"
   ]
  },
  {
   "cell_type": "markdown",
   "metadata": {},
   "source": [
    "## Comparing Models ##"
   ]
  },
  {
   "cell_type": "markdown",
   "metadata": {},
   "source": [
    "### Rec.autos ###"
   ]
  },
  {
   "cell_type": "code",
   "execution_count": 40,
   "metadata": {},
   "outputs": [],
   "source": [
    "# using LSA\n",
    "\n",
    "svd= TruncatedSVD(ntopics)\n",
    "lsa = make_pipeline(svd, Normalizer(copy=False))\n",
    "autos_lsa = lsa.fit_transform(vector_auto)\n",
    "\n",
    "# Getting the word list.\n",
    "terms = vectorizer1.get_feature_names()\n",
    "\n",
    "auto_components_lsa = word_topic(vector_auto, autos_lsa, terms)\n",
    "\n",
    "topwords_auto=pd.DataFrame()\n",
    "topwords_auto['LSA']=top_words(auto_components_lsa, n_top_words)                "
   ]
  },
  {
   "cell_type": "code",
   "execution_count": 41,
   "metadata": {},
   "outputs": [
    {
     "name": "stderr",
     "output_type": "stream",
     "text": [
      "/home/ljagged/miniconda3/envs/thinkful/lib/python3.6/site-packages/sklearn/decomposition/online_lda.py:294: DeprecationWarning: n_topics has been renamed to n_components in version 0.19 and will be removed in 0.21\n",
      "  DeprecationWarning)\n",
      "/home/ljagged/miniconda3/envs/thinkful/lib/python3.6/site-packages/sklearn/decomposition/online_lda.py:536: DeprecationWarning: The default value for 'learning_method' will be changed from 'online' to 'batch' in the release 0.20. This warning was introduced in 0.18.\n",
      "  DeprecationWarning)\n"
     ]
    }
   ],
   "source": [
    "# using LDA\n",
    "\n",
    "lda = LDA(n_topics=ntopics, \n",
    "          doc_topic_prior=None, # Prior = 1/n_documents\n",
    "          topic_word_prior=1/ntopics,\n",
    "          learning_decay=0.7, # Convergence rate.\n",
    "          learning_offset=10.0, # Causes earlier iterations to have less influence on the learning\n",
    "          max_iter=10, # when to stop even if the model is not converging (to prevent running forever)\n",
    "          evaluate_every=-1, # Do not evaluate perplexity, as it slows training time.\n",
    "          mean_change_tol=0.001, # Stop updating the document topic distribution in the E-step when mean change is < tol\n",
    "          max_doc_update_iter=100, # When to stop updating the document topic distribution in the E-step even if tol is not reached\n",
    "          n_jobs=-1, # Use all available CPUs to speed up processing time.\n",
    "          verbose=0, # amount of output to give while iterating\n",
    "          random_state=0\n",
    "         )\n",
    "\n",
    "autos_lda = lda.fit_transform(vector_auto) \n",
    "\n",
    "components_lda = word_topic(vector_auto, autos_lda, terms)\n",
    "\n",
    "topwords_auto['LDA']=top_words(components_lda, n_top_words)\n"
   ]
  },
  {
   "cell_type": "code",
   "execution_count": 42,
   "metadata": {},
   "outputs": [],
   "source": [
    "# using NNMF\n",
    "\n",
    "nmf = NMF(alpha=0.0, \n",
    "          init='nndsvdar', # how starting value are calculated\n",
    "          l1_ratio=0.0, # Sets whether regularization is L2 (0), L1 (1), or a combination (values between 0 and 1)\n",
    "          max_iter=200, # when to stop even if the model is not converging (to prevent running forever)\n",
    "          n_components=ntopics, \n",
    "          random_state=0, \n",
    "          solver='cd', # Use Coordinate Descent to solve\n",
    "          tol=0.0001, # model will stop if tfidf-WH <= tol\n",
    "          verbose=0 # amount of output to give while iterating\n",
    "         )\n",
    "autos_nmf = nmf.fit_transform(vector_auto) \n",
    "\n",
    "components_nmf = word_topic(vector_auto, autos_nmf, terms)\n",
    "\n",
    "topwords_auto['NNMF']=top_words(components_nmf, n_top_words)\n"
   ]
  },
  {
   "cell_type": "markdown",
   "metadata": {},
   "source": [
    "### Inspecting Topics in Rec.autos ###"
   ]
  },
  {
   "cell_type": "code",
   "execution_count": 43,
   "metadata": {},
   "outputs": [
    {
     "name": "stdout",
     "output_type": "stream",
     "text": [
      "Topic 0:\n",
      "          LSA               LDA        NNMF\n",
      "0   car 15.88         ites 0.98  speed 0.57\n",
      "0    like 9.5          car 0.77    car 0.55\n",
      "0    just 8.5      archive 0.48  drive 0.49\n",
      "0   cars 7.73  continental 0.48   cars 0.47\n",
      "0   good 7.01           gt 0.46   just 0.47\n",
      "0    new 6.99         like 0.45  right 0.43\n",
      "0    know 6.5          ibm 0.39    like 0.4\n",
      "0    don 6.47          5sp 0.39    road 0.4\n",
      "0  think 5.63       server 0.38   auto 0.39\n",
      "0   does 5.16        catch 0.38    sho 0.36\n",
      "Topic 1:\n",
      "               LSA           LDA                NNMF\n",
      "1          __ 3.28       __ 1.74             __ 2.08\n",
      "1       _____ 1.28  deleted 1.06          _____ 0.82\n",
      "1         ___ 1.23    stuff 0.94            ___ 0.74\n",
      "1        ____ 0.86    _____ 0.69        _______ 0.55\n",
      "1     _______ 0.85      ___ 0.62           ____ 0.52\n",
      "1      wouldn 0.73      car 0.62            16v 0.27\n",
      "1  understand 0.55     ditto 0.6             oo 0.27\n",
      "1        need 0.54      like 0.5           ncsl 0.27\n",
      "1         keys 0.5  _______ 0.46  fahrvergnugen 0.27\n",
      "1    probably 0.48     hear 0.43         ______ 0.27\n",
      "Topic 2:\n",
      "              LSA          LDA          NNMF\n",
      "2        car 3.76    car 17.32      car 2.32\n",
      "2     dealer 3.29    like 9.98      new 0.88\n",
      "2      price 2.66    just 9.58   dealer 0.88\n",
      "2     saturn 1.92    cars 8.58    price 0.82\n",
      "2     thanks 1.71    good 7.52      like 0.8\n",
      "2        new 1.57     new 7.49     good 0.67\n",
      "2      prices 1.4     don 7.25     cars 0.58\n",
      "2  insurance 1.11    know 7.18   thanks 0.57\n",
      "2      bought 1.0   think 6.47   saturn 0.56\n",
      "2     looking 0.9  engine 6.31  looking 0.51\n",
      "Topic 3:\n",
      "           LSA          LDA          NNMF\n",
      "3  engine 3.42     car 0.62   engine 1.15\n",
      "3     oil 3.04    just 0.38      oil 1.09\n",
      "3     new 1.31    like 0.37      car 0.57\n",
      "3   miles 1.21    know 0.29   change 0.42\n",
      "3   tires 1.19    cars 0.29      like 0.4\n",
      "3   drain 1.18     new 0.29      gas 0.38\n",
      "3    ford 1.16    good 0.28  problem 0.38\n",
      "3    plug 1.12  thanks 0.24    miles 0.36\n",
      "3  problem 1.1     don 0.24     time 0.34\n",
      "3    used 1.09  dealer 0.24     plug 0.32\n",
      "Topic 4:\n",
      "            LSA                LDA        NNMF\n",
      "4     just 2.71         bored 0.73   just 0.95\n",
      "4     ford 1.83  _incredibly_ 0.73  people 0.9\n",
      "4     know 1.77           car 0.63    don 0.65\n",
      "4      oil 1.72       reading 0.62  think 0.62\n",
      "4  problem 1.72          book 0.59   know 0.62\n",
      "4   dealer 1.43         phone 0.58   like 0.51\n",
      "4       don 1.4    considered 0.57     car 0.5\n",
      "4      did 1.24      appeared 0.52    ford 0.5\n",
      "4    wanted 1.1         today 0.46    did 0.45\n",
      "4   people 1.06        hahaha 0.43   life 0.45\n"
     ]
    }
   ],
   "source": [
    "for topic in range(ntopics):\n",
    "    print('Topic {}:'.format(topic))\n",
    "    print(topwords_auto.loc[topic])"
   ]
  },
  {
   "cell_type": "markdown",
   "metadata": {},
   "source": [
    "### Rec.sport.hockey ###"
   ]
  },
  {
   "cell_type": "code",
   "execution_count": 55,
   "metadata": {},
   "outputs": [],
   "source": [
    "vectorizer2 = TfidfVectorizer(stop_words='english')\n",
    "vector_hockey = vectorizer2.fit_transform(ng_hockey.data)"
   ]
  },
  {
   "cell_type": "code",
   "execution_count": 56,
   "metadata": {},
   "outputs": [],
   "source": [
    "# using LSA\n",
    "\n",
    "svd= TruncatedSVD(ntopics)\n",
    "lsa = make_pipeline(svd, Normalizer(copy=False))\n",
    "hockey_lsa = lsa.fit_transform(vector_hockey)\n",
    "\n",
    "# Getting the word list.\n",
    "terms2 = vectorizer2.get_feature_names()\n",
    "\n",
    "hockey_components_lsa = word_topic(vector_hockey, hockey_lsa, terms2)\n",
    "\n",
    "topwords_hockey=pd.DataFrame()\n",
    "topwords_hockey['LSA']=top_words(hockey_components_lsa, n_top_words)                "
   ]
  },
  {
   "cell_type": "code",
   "execution_count": 59,
   "metadata": {},
   "outputs": [
    {
     "name": "stderr",
     "output_type": "stream",
     "text": [
      "/home/ljagged/miniconda3/envs/thinkful/lib/python3.6/site-packages/sklearn/decomposition/online_lda.py:294: DeprecationWarning: n_topics has been renamed to n_components in version 0.19 and will be removed in 0.21\n",
      "  DeprecationWarning)\n",
      "/home/ljagged/miniconda3/envs/thinkful/lib/python3.6/site-packages/sklearn/decomposition/online_lda.py:536: DeprecationWarning: The default value for 'learning_method' will be changed from 'online' to 'batch' in the release 0.20. This warning was introduced in 0.18.\n",
      "  DeprecationWarning)\n"
     ]
    }
   ],
   "source": [
    "# using LDA\n",
    "\n",
    "lda = LDA(n_topics=ntopics, \n",
    "          doc_topic_prior=None, # Prior = 1/n_documents\n",
    "          topic_word_prior=1/ntopics,\n",
    "          learning_decay=0.7, # Convergence rate.\n",
    "          learning_offset=10.0, # Causes earlier iterations to have less influence on the learning\n",
    "          max_iter=10, # when to stop even if the model is not converging (to prevent running forever)\n",
    "          evaluate_every=-1, # Do not evaluate perplexity, as it slows training time.\n",
    "          mean_change_tol=0.001, # Stop updating the document topic distribution in the E-step when mean change is < tol\n",
    "          max_doc_update_iter=100, # When to stop updating the document topic distribution in the E-step even if tol is not reached\n",
    "          n_jobs=-1, # Use all available CPUs to speed up processing time.\n",
    "          verbose=0, # amount of output to give while iterating\n",
    "          random_state=0\n",
    "         )\n",
    "\n",
    "hockey_lda = lda.fit_transform(vector_hockey) \n",
    "\n",
    "hockey_components_lda = word_topic(vector_hockey, hockey_lda, terms2)\n",
    "\n",
    "topwords_hockey['LDA']=top_words(hockey_components_lda, n_top_words)"
   ]
  },
  {
   "cell_type": "code",
   "execution_count": 60,
   "metadata": {},
   "outputs": [],
   "source": [
    "# using NNMF\n",
    "\n",
    "nmf = NMF(alpha=0.0, \n",
    "          init='nndsvdar', # how starting value are calculated\n",
    "          l1_ratio=0.0, # Sets whether regularization is L2 (0), L1 (1), or a combination (values between 0 and 1)\n",
    "          max_iter=200, # when to stop even if the model is not converging (to prevent running forever)\n",
    "          n_components=ntopics, \n",
    "          random_state=0, \n",
    "          solver='cd', # Use Coordinate Descent to solve\n",
    "          tol=0.0001, # model will stop if tfidf-WH <= tol\n",
    "          verbose=0 # amount of output to give while iterating\n",
    "         )\n",
    "hockey_nmf = nmf.fit_transform(vector_hockey) \n",
    "\n",
    "components_nmf = word_topic(vector_hockey, hockey_nmf, terms2)\n",
    "\n",
    "topwords_hockey['NNMF']=top_words(components_nmf, n_top_words)\n"
   ]
  },
  {
   "cell_type": "markdown",
   "metadata": {},
   "source": [
    "### Inspecting Topics in Rec.sport.hockey ###"
   ]
  },
  {
   "cell_type": "code",
   "execution_count": 61,
   "metadata": {},
   "outputs": [
    {
     "name": "stdout",
     "output_type": "stream",
     "text": [
      "Topic 0:\n",
      "           LSA             LDA          NNMF\n",
      "0   game 12.75      rectum 0.6     game 1.26\n",
      "0   team 11.46       game 0.48     team 1.14\n",
      "0  hockey 9.74     assume 0.44   hockey 1.03\n",
      "0   games 8.67  sarcastic 0.42  players 0.98\n",
      "0     don 8.41       team 0.41   season 0.85\n",
      "0   think 8.24     remark 0.41      don 0.81\n",
      "0  season 8.24      vielen 0.4    think 0.79\n",
      "0    play 8.14        dank 0.4     play 0.77\n",
      "0    year 7.97        just 0.4    games 0.76\n",
      "0    just 7.95  desperate 0.38     like 0.76\n",
      "Topic 1:\n",
      "           LSA           LDA         NNMF\n",
      "1  period 3.02   colons 0.48  period 1.33\n",
      "1      10 2.98     game 0.48      10 1.12\n",
      "1     pts 2.77  florida 0.39      pp 1.04\n",
      "1      11 2.77     team 0.38      11 1.01\n",
      "1      pp 2.35    south 0.37     pts 0.92\n",
      "1      12 2.22   hockey 0.37      12 0.81\n",
      "1      55 2.02     just 0.36   power 0.76\n",
      "1      18 1.84    games 0.32  scorer 0.68\n",
      "1      19 1.75     like 0.31      18 0.66\n",
      "1      15 1.71    think 0.31    play 0.62\n",
      "Topic 2:\n",
      "            LSA           LDA          NNMF\n",
      "2      let 3.88    game 14.18      let 1.57\n",
      "2      edu 2.76    team 12.17      sas 0.97\n",
      "2     mail 2.58  hockey 10.53  quakers 0.97\n",
      "2    upenn 2.02      don 9.01  kkeller 0.97\n",
      "2  kkeller 2.02    think 8.95      ivy 0.97\n",
      "2   keller 2.02    games 8.94   keller 0.97\n",
      "2      ivy 2.02  players 8.84    upenn 0.97\n",
      "2  quakers 2.02   season 8.64   champs 0.93\n",
      "2      sas 2.02     play 8.61     mail 0.93\n",
      "2   champs 1.92     year 8.44      edu 0.92\n",
      "Topic 3:\n",
      "            LSA          LDA             NNMF\n",
      "3  detroit 2.97      10 2.43     detroit 1.09\n",
      "3    hawks 2.87      11 1.96          vs 1.07\n",
      "3       vs 2.77       55 1.9     chicago 0.85\n",
      "3     game 2.59  period 1.84     toronto 0.81\n",
      "3     espn 2.22     pts 1.66        game 0.75\n",
      "3      win 2.17       gm 1.6  pittsburgh 0.71\n",
      "3    leafs 1.95      12 1.59    division 0.69\n",
      "3   series 1.77      pp 1.51       hawks 0.68\n",
      "3      cal 1.77      25 1.36         win 0.67\n",
      "3   toronto 1.7      19 1.29      winner 0.67\n",
      "Topic 4:\n",
      "             LSA           LDA             NNMF\n",
      "4        gm 5.39      faq 0.69           gm 2.5\n",
      "4    murray 2.09     test 0.51      murray 0.74\n",
      "4       nhl 1.54     game 0.48       utica 0.43\n",
      "4   players 1.47  message 0.46  adirondack 0.43\n",
      "4         vs 1.3      gak 0.44   baltimore 0.42\n",
      "4      team 1.23     team 0.38   rochester 0.41\n",
      "4     coach 1.11      fun 0.38     moncton 0.39\n",
      "4  senators 0.96   hockey 0.33         cdi 0.37\n",
      "4   moncton 0.94     just 0.32  binghamton 0.36\n",
      "4    traded 0.88    games 0.32          vs 0.35\n"
     ]
    }
   ],
   "source": [
    "for topic in range(ntopics):\n",
    "    print('Topic {}:'.format(topic))\n",
    "    print(topwords_hockey.loc[topic])"
   ]
  },
  {
   "cell_type": "markdown",
   "metadata": {},
   "source": [
    "### Sci.med ###"
   ]
  },
  {
   "cell_type": "code",
   "execution_count": 62,
   "metadata": {},
   "outputs": [],
   "source": [
    "vectorizer3 = TfidfVectorizer(stop_words='english')\n",
    "vector_med = vectorizer3.fit_transform(ng_med.data)"
   ]
  },
  {
   "cell_type": "code",
   "execution_count": 63,
   "metadata": {},
   "outputs": [],
   "source": [
    "# using LSA\n",
    "\n",
    "svd= TruncatedSVD(ntopics)\n",
    "lsa = make_pipeline(svd, Normalizer(copy=False))\n",
    "med_lsa = lsa.fit_transform(vector_med)\n",
    "\n",
    "# Getting the word list.\n",
    "terms3 = vectorizer3.get_feature_names()\n",
    "\n",
    "med_components_lsa = word_topic(vector_med, med_lsa, terms3)\n",
    "\n",
    "topwords_med=pd.DataFrame()\n",
    "topwords_med['LSA']=top_words(med_components_lsa, n_top_words)                "
   ]
  },
  {
   "cell_type": "code",
   "execution_count": 64,
   "metadata": {},
   "outputs": [
    {
     "name": "stderr",
     "output_type": "stream",
     "text": [
      "/home/ljagged/miniconda3/envs/thinkful/lib/python3.6/site-packages/sklearn/decomposition/online_lda.py:294: DeprecationWarning: n_topics has been renamed to n_components in version 0.19 and will be removed in 0.21\n",
      "  DeprecationWarning)\n",
      "/home/ljagged/miniconda3/envs/thinkful/lib/python3.6/site-packages/sklearn/decomposition/online_lda.py:536: DeprecationWarning: The default value for 'learning_method' will be changed from 'online' to 'batch' in the release 0.20. This warning was introduced in 0.18.\n",
      "  DeprecationWarning)\n"
     ]
    }
   ],
   "source": [
    "# using LDA\n",
    "\n",
    "lda = LDA(n_topics=ntopics, \n",
    "          doc_topic_prior=None, # Prior = 1/n_documents\n",
    "          topic_word_prior=1/ntopics,\n",
    "          learning_decay=0.7, # Convergence rate.\n",
    "          learning_offset=10.0, # Causes earlier iterations to have less influence on the learning\n",
    "          max_iter=10, # when to stop even if the model is not converging (to prevent running forever)\n",
    "          evaluate_every=-1, # Do not evaluate perplexity, as it slows training time.\n",
    "          mean_change_tol=0.001, # Stop updating the document topic distribution in the E-step when mean change is < tol\n",
    "          max_doc_update_iter=100, # When to stop updating the document topic distribution in the E-step even if tol is not reached\n",
    "          n_jobs=-1, # Use all available CPUs to speed up processing time.\n",
    "          verbose=0, # amount of output to give while iterating\n",
    "          random_state=0\n",
    "         )\n",
    "\n",
    "med_lda = lda.fit_transform(vector_med) \n",
    "\n",
    "med_components_lda = word_topic(vector_med, med_lda, terms3)\n",
    "\n",
    "topwords_med['LDA']=top_words(med_components_lda, n_top_words)"
   ]
  },
  {
   "cell_type": "code",
   "execution_count": 65,
   "metadata": {},
   "outputs": [],
   "source": [
    "# using NNMF\n",
    "\n",
    "nmf = NMF(alpha=0.0, \n",
    "          init='nndsvdar', # how starting value are calculated\n",
    "          l1_ratio=0.0, # Sets whether regularization is L2 (0), L1 (1), or a combination (values between 0 and 1)\n",
    "          max_iter=200, # when to stop even if the model is not converging (to prevent running forever)\n",
    "          n_components=ntopics, \n",
    "          random_state=0, \n",
    "          solver='cd', # Use Coordinate Descent to solve\n",
    "          tol=0.0001, # model will stop if tfidf-WH <= tol\n",
    "          verbose=0 # amount of output to give while iterating\n",
    "         )\n",
    "med_nmf = nmf.fit_transform(vector_med) \n",
    "\n",
    "components_nmf = word_topic(vector_med, med_nmf, terms3)\n",
    "\n",
    "topwords_med['NNMF']=top_words(components_nmf, n_top_words)\n"
   ]
  },
  {
   "cell_type": "markdown",
   "metadata": {},
   "source": [
    "### Inspecting Topics in Sci.med ###"
   ]
  },
  {
   "cell_type": "code",
   "execution_count": 66,
   "metadata": {},
   "outputs": [
    {
     "name": "stdout",
     "output_type": "stream",
     "text": [
      "Topic 0:\n",
      "             LSA               LDA             NNMF\n",
      "0        edu 9.1         know 0.38       cadre 2.03\n",
      "0       geb 8.39      britain 0.35         dsl 2.03\n",
      "0     banks 8.34          edu 0.32    shameful 2.03\n",
      "0      pitt 8.32  information 0.31   surrender 2.03\n",
      "0    gordon 8.25           msg 0.3         geb 2.03\n",
      "0        dsl 8.2          don 0.29       n3jxp 2.03\n",
      "0   shameful 8.2          geb 0.28    chastity 2.03\n",
      "0      cadre 8.2        banks 0.28   intellect 2.03\n",
      "0  surrender 8.2       gordon 0.28  skepticism 2.02\n",
      "0     n3jxp 8.19         pitt 0.28        pitt 2.01\n",
      "Topic 1:\n",
      "           LSA          LDA         NNMF\n",
      "1    know 6.88    know 0.34    pain 1.31\n",
      "1     msg 6.22    like 0.33  doctor 0.89\n",
      "1     don 6.14     edu 0.32  clinic 0.47\n",
      "1  people 6.12   memes 0.32     don 0.37\n",
      "1    like 5.58      msg 0.3    said 0.33\n",
      "1    just 4.96     don 0.29    told 0.33\n",
      "1    does 4.92     geb 0.28   doesn 0.32\n",
      "1    think 4.9   banks 0.28    time 0.28\n",
      "1    food 4.89  gordon 0.28    like 0.27\n",
      "1    time 4.69    pitt 0.28     did 0.26\n",
      "Topic 2:\n",
      "              LSA                LDA            NNMF\n",
      "2        msg 8.02         toxin 0.54        msg 2.91\n",
      "2       food 4.04     aflatoxin 0.44       food 1.57\n",
      "2    chinese 1.98  contaminants 0.44    chinese 0.74\n",
      "2   glutamate 1.3           corn 0.4     people 0.55\n",
      "2     flavor 1.15      expensive 0.4       just 0.45\n",
      "2  restaurant 1.1          know 0.34     flavor 0.43\n",
      "2       carl 1.02           edu 0.32   reaction 0.42\n",
      "2      taste 0.93            msg 0.3  glutamate 0.41\n",
      "2        eat 0.88           don 0.29         don 0.4\n",
      "2   reaction 0.79           geb 0.28        eat 0.39\n",
      "Topic 3:\n",
      "                LSA           LDA              NNMF\n",
      "3      science 3.45  melittin 0.6      science 1.51\n",
      "3   scientific 2.08       tx 0.52   scientific 0.89\n",
      "3  methodology 1.31      don 0.37        think 0.68\n",
      "3        think 1.24   bogota 0.36  methodology 0.58\n",
      "3      rational 1.1   mexico 0.36     thinking 0.45\n",
      "3     thinking 1.05      paz 0.36    empirical 0.41\n",
      "3     evidence 1.01     waco 0.36       studies 0.4\n",
      "3       theory 0.96     know 0.34           don 0.4\n",
      "3     research 0.92     just 0.34        ideas 0.38\n",
      "3      studies 0.88      edu 0.34   psychology 0.35\n",
      "Topic 4:\n",
      "               LSA          LDA           NNMF\n",
      "4     disease 2.97     edu 9.74   disease 0.95\n",
      "4      candida 2.4      msg 9.3      know 0.92\n",
      "4       yeast 2.13     don 9.26    people 0.76\n",
      "4      cancer 1.94    know 8.95  patients 0.74\n",
      "4    patients 1.47  people 8.02   medical 0.69\n",
      "4        body 1.46  gordon 7.66       don 0.67\n",
      "4      people 1.14   banks 7.63      does 0.65\n",
      "4    diseases 1.12    like 7.61    candida 0.6\n",
      "4  information 1.1     geb 7.58      like 0.59\n",
      "4        does 1.08    pitt 7.55     yeast 0.59\n"
     ]
    }
   ],
   "source": [
    "for topic in range(ntopics):\n",
    "    print('Topic {}:'.format(topic))\n",
    "    print(topwords_med.loc[topic])"
   ]
  },
  {
   "cell_type": "markdown",
   "metadata": {},
   "source": [
    "### Talk.politics.mideast ###"
   ]
  },
  {
   "cell_type": "code",
   "execution_count": 67,
   "metadata": {},
   "outputs": [],
   "source": [
    "vectorizer4 = TfidfVectorizer(stop_words='english')\n",
    "vector_mideast = vectorizer4.fit_transform(ng_mideast.data)"
   ]
  },
  {
   "cell_type": "code",
   "execution_count": 68,
   "metadata": {},
   "outputs": [],
   "source": [
    "# using LSA\n",
    "\n",
    "svd= TruncatedSVD(ntopics)\n",
    "lsa = make_pipeline(svd, Normalizer(copy=False))\n",
    "mideast_lsa = lsa.fit_transform(vector_mideast)\n",
    "\n",
    "# Getting the word list.\n",
    "terms4 = vectorizer4.get_feature_names()\n",
    "\n",
    "mideast_components_lsa = word_topic(vector_mideast, mideast_lsa, terms4)\n",
    "\n",
    "topwords_mideast=pd.DataFrame()\n",
    "topwords_mideast['LSA']=top_words(mideast_components_lsa, n_top_words)          "
   ]
  },
  {
   "cell_type": "code",
   "execution_count": 69,
   "metadata": {},
   "outputs": [
    {
     "name": "stderr",
     "output_type": "stream",
     "text": [
      "/home/ljagged/miniconda3/envs/thinkful/lib/python3.6/site-packages/sklearn/decomposition/online_lda.py:294: DeprecationWarning: n_topics has been renamed to n_components in version 0.19 and will be removed in 0.21\n",
      "  DeprecationWarning)\n",
      "/home/ljagged/miniconda3/envs/thinkful/lib/python3.6/site-packages/sklearn/decomposition/online_lda.py:536: DeprecationWarning: The default value for 'learning_method' will be changed from 'online' to 'batch' in the release 0.20. This warning was introduced in 0.18.\n",
      "  DeprecationWarning)\n"
     ]
    }
   ],
   "source": [
    "# using LDA\n",
    "\n",
    "lda = LDA(n_topics=ntopics, \n",
    "          doc_topic_prior=None, # Prior = 1/n_documents\n",
    "          topic_word_prior=1/ntopics,\n",
    "          learning_decay=0.7, # Convergence rate.\n",
    "          learning_offset=10.0, # Causes earlier iterations to have less influence on the learning\n",
    "          max_iter=10, # when to stop even if the model is not converging (to prevent running forever)\n",
    "          evaluate_every=-1, # Do not evaluate perplexity, as it slows training time.\n",
    "          mean_change_tol=0.001, # Stop updating the document topic distribution in the E-step when mean change is < tol\n",
    "          max_doc_update_iter=100, # When to stop updating the document topic distribution in the E-step even if tol is not reached\n",
    "          n_jobs=-1, # Use all available CPUs to speed up processing time.\n",
    "          verbose=0, # amount of output to give while iterating\n",
    "          random_state=0\n",
    "         )\n",
    "\n",
    "mideast_lda = lda.fit_transform(vector_mideast) \n",
    "\n",
    "mideast_components_lda = word_topic(vector_mideast, mideast_lda, terms4)\n",
    "\n",
    "topwords_mideast['LDA']=top_words(mideast_components_lda, n_top_words)"
   ]
  },
  {
   "cell_type": "code",
   "execution_count": 70,
   "metadata": {},
   "outputs": [],
   "source": [
    "# using NNMF\n",
    "\n",
    "nmf = NMF(alpha=0.0, \n",
    "          init='nndsvdar', # how starting value are calculated\n",
    "          l1_ratio=0.0, # Sets whether regularization is L2 (0), L1 (1), or a combination (values between 0 and 1)\n",
    "          max_iter=200, # when to stop even if the model is not converging (to prevent running forever)\n",
    "          n_components=ntopics, \n",
    "          random_state=0, \n",
    "          solver='cd', # Use Coordinate Descent to solve\n",
    "          tol=0.0001, # model will stop if tfidf-WH <= tol\n",
    "          verbose=0 # amount of output to give while iterating\n",
    "         )\n",
    "mideast_nmf = nmf.fit_transform(vector_mideast) \n",
    "\n",
    "components_nmf = word_topic(vector_mideast, mideast_nmf, terms4)\n",
    "\n",
    "topwords_mideast['NNMF']=top_words(components_nmf, n_top_words)\n"
   ]
  },
  {
   "cell_type": "markdown",
   "metadata": {},
   "source": [
    "### Inspecting Topics in Talk.politics.mideast ###"
   ]
  },
  {
   "cell_type": "code",
   "execution_count": 71,
   "metadata": {},
   "outputs": [
    {
     "name": "stdout",
     "output_type": "stream",
     "text": [
      "Topic 0:\n",
      "              LSA             LDA           NNMF\n",
      "0    israel 12.05      loser 0.52    israel 2.12\n",
      "0     people 9.65    asshole 0.51   israeli 1.26\n",
      "0    israeli 8.59     pollard 0.5      arab 0.85\n",
      "0       jews 8.12     israel 0.48      jews 0.82\n",
      "0   armenian 7.72       jerk 0.45  lebanese 0.62\n",
      "0  armenians 7.09    nursery 0.45     arabs 0.55\n",
      "0       just 6.91     shrink 0.42   lebanon 0.54\n",
      "0    turkish 6.53  definetly 0.42     peace 0.51\n",
      "0       said 6.29        john 0.4  israelis 0.49\n",
      "0       arab 6.26      cases 0.38     state 0.48\n",
      "Topic 1:\n",
      "              LSA               LDA            NNMF\n",
      "1   armenian 6.31      retarded 1.3   armenian 2.48\n",
      "1  armenians 5.22       israel 0.48  armenians 1.69\n",
      "1    turkish 4.67    delightful 0.4    turkish 1.36\n",
      "1    armenia 2.81         just 0.39   genocide 1.19\n",
      "1   genocide 2.74          hey 0.38     people 0.93\n",
      "1     turkey 2.52          did 0.38     soviet 0.87\n",
      "1      turks 2.37  interesting 0.36    armenia 0.81\n",
      "1     serdar 2.13       kindly 0.36    russian 0.73\n",
      "1       argic 1.9        aswer 0.35     muslim 0.72\n",
      "1     soviet 1.87     question 0.33      turks 0.72\n",
      "Topic 2:\n",
      "          LSA             LDA            NNMF\n",
      "2    said 2.8   armenian 6.62       said 1.24\n",
      "2    say 2.52  armenians 4.83     people 1.02\n",
      "2   just 2.36    turkish 3.69       didn 0.87\n",
      "2    don 2.08   genocide 3.33       went 0.81\n",
      "2   didn 2.03     people 3.25  armenians 0.79\n",
      "2   know 1.74     soviet 2.45       know 0.77\n",
      "2  think 1.49     muslim 2.27        don 0.74\n",
      "2   went 1.48      turks 2.12        say 0.71\n",
      "2  loser 1.36     serdar 2.12    sumgait 0.69\n",
      "2  going 1.23    russian 2.08       just 0.68\n",
      "Topic 3:\n",
      "             LSA             LDA          NNMF\n",
      "3    israel 4.05       45th 0.81    greek 1.68\n",
      "3  lebanese 2.38   birthday 0.75  turkish 1.49\n",
      "3   lebanon 2.05     israel 0.74   greece 0.89\n",
      "3   israeli 1.58      happy 0.59   turkey 0.82\n",
      "3  armenian 1.43        ihr 0.49   cyprus 0.81\n",
      "3  civilians 1.2       1760 0.42    turks 0.77\n",
      "3  villages 1.13        280 0.42   greeks 0.69\n",
      "3  soldiers 1.05       anal 0.41    henrik 0.6\n",
      "3   attacks 0.89       wimp 0.41   people 0.49\n",
      "3    killed 0.85  retentive 0.41  armenia 0.44\n",
      "Topic 4:\n",
      "             LSA            LDA           NNMF\n",
      "4      adam 4.27   israel 15.84      adam 2.09\n",
      "4   harvard 1.71  israeli 10.74      jews 0.98\n",
      "4       das 1.54     jews 10.13   harvard 0.76\n",
      "4  shostack 1.53    people 9.16  shostack 0.75\n",
      "4       edu 1.41      just 7.53       das 0.74\n",
      "4  armenian 1.21      arab 7.53       edu 0.69\n",
      "4     loser 0.86       don 6.98    israel 0.45\n",
      "4    arafat 0.81      know 6.32    people 0.32\n",
      "4  lebanese 0.72      said 6.32     arabs 0.31\n",
      "4    bodies 0.53     think 6.18   judaism 0.29\n"
     ]
    }
   ],
   "source": [
    "for topic in range(ntopics):\n",
    "    print('Topic {}:'.format(topic))\n",
    "    print(topwords_mideast.loc[topic])"
   ]
  },
  {
   "cell_type": "markdown",
   "metadata": {},
   "source": [
    "## Discussion ##\n",
    "\n",
    "We have taken the 20 Newsgroups dataset in order to further test\n",
    "topic extraction using LSA, LDA, and NNMF. I conduct an investigation\n",
    "into each method by running topic extraction on four of the newsgroups.\n",
    "The selected newsgroups are rec.autos, rec.sport.hockey, sci.med, and\n",
    "talk.politics.mideast. Each of these newsgroups deals with quite separate\n",
    "and highly distinguishable topics.  Rec.autos deals with automotive issues\n",
    "such as car makes and models and driving experiences.  Rec.sports.hockey deals\n",
    "with hockey issues (the teams and specific games) obviously.  Sci.med is a broad\n",
    "based medical newsgroup and the topics should be relating to health issues and\n",
    "diseases and conditions related to human medical matters.  Talk.politics.mideast\n",
    "is a rather self explanatory newsgroup that would most likely to dealing with\n",
    "the countries of the mideast and issues such as wars and confict of that region.\n",
    "\n",
    "The results of topic extraction for rec.auto is informative. Topic 0 from both\n",
    "LSA and NNMF display words like car, cars, road, speed, auto and drive.  NNMF\n",
    "has the most topical with LSA close behind.  LDA contains car but little else.\n",
    "Topic 2 has almost identical results for LSA and NNMF containing more complex\n",
    "issues like insurance, saturn, price and dealer while LDA has only simpler words\n",
    "like cars, engine and new.  The general appearance of the topic in rec.auto\n",
    "appears to be that LSA and NNMF are quite similar and contain a greater variety\n",
    "of complex on-topic automotive ideas and LDA seems to be rather lacking in this regard.\n",
    "\n",
    "This pattern recurs with the rest of the newsgroups in general.  LSA and NNMF\n",
    "generally find keywords that are on target to the ground truth on the newsgroup.  \n",
    "LDA can often find the most obvious high level words such as israel and arab in talk.politics.mideast but often contains garbled or off-topic words or overly \n",
    "elaborate words such contaminants in sci.med that do not hold to a coherent topic.  \n",
    "\n",
    "From the experience using these algorithms, I feel compelled to say that LDA\n",
    "was overall the worst performing algorithm of the three.  It often fixated on\n",
    "strange vocabulary that was almost always off-topic.  NNMF and LSA can both \n",
    "be relied upon to exract keyword topics that make good intuitive sense."
   ]
  },
  {
   "cell_type": "code",
   "execution_count": null,
   "metadata": {},
   "outputs": [],
   "source": []
  }
 ],
 "metadata": {
  "hide_input": false,
  "kernelspec": {
   "display_name": "Python 3",
   "language": "python",
   "name": "python3"
  },
  "language_info": {
   "codemirror_mode": {
    "name": "ipython",
    "version": 3
   },
   "file_extension": ".py",
   "mimetype": "text/x-python",
   "name": "python",
   "nbconvert_exporter": "python",
   "pygments_lexer": "ipython3",
   "version": "3.6.6"
  }
 },
 "nbformat": 4,
 "nbformat_minor": 2
}
